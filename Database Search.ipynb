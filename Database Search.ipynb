{
 "cells": [
  {
   "cell_type": "markdown",
   "id": "cdc98966",
   "metadata": {},
   "source": [
    "# Database Search"
   ]
  },
  {
   "cell_type": "code",
   "execution_count": 3,
   "id": "0ed4cf4c",
   "metadata": {},
   "outputs": [],
   "source": [
    "import numpy as np\n",
    "\n",
    "def levenshtein_ratio_and_distance(s, t, ratio_calc = True):\n",
    "    \"\"\" levenshtein_ratio_and_distance:\n",
    "        Calculates levenshtein distance between two strings.\n",
    "        If ratio_calc = True, the function computes the\n",
    "        levenshtein distance ratio of similarity between two strings\n",
    "        For all i and j, distance[i,j] will contain the Levenshtein\n",
    "        distance between the first i characters of s and the\n",
    "        first j characters of t\n",
    "    \"\"\"\n",
    "    # Initialize matrix of zeros\n",
    "    rows = len(s)+1\n",
    "    cols = len(t)+1\n",
    "    distance = np.zeros((rows,cols),dtype = int)\n",
    "\n",
    "    # Populate matrix of zeros with the indeces of each character of both strings\n",
    "    for i in range(1, rows):\n",
    "        for k in range(1,cols):\n",
    "            distance[i][0] = i\n",
    "            distance[0][k] = k\n",
    "\n",
    "    # Iterate over the matrix to compute the cost of deletions,insertions and/or substitutions    \n",
    "    for col in range(1, cols):\n",
    "        for row in range(1, rows):\n",
    "            if s[row-1] == t[col-1]:\n",
    "                cost = 0 # If the characters are the same in the two strings in a given position [i,j] then the cost is 0\n",
    "            else:\n",
    "                # In order to align the results with those of the Python Levenshtein package, if we choose to calculate the ratio\n",
    "                # the cost of a substitution is 2. If we calculate just distance, then the cost of a substitution is 1.\n",
    "                if ratio_calc == True: cost = 2\n",
    "                else: cost = 1\n",
    "            \n",
    "            distance[row][col] = min(distance[row-1][col] + 1,      # Cost of deletions\n",
    "                                 distance[row][col-1] + 1,          # Cost of insertions\n",
    "                                 distance[row-1][col-1] + cost)     # Cost of substitutions\n",
    "    \n",
    "    # Computation of the Levenshtein Distance Ratio\n",
    "    Ratio = ((len(s)+len(t)) - distance[row][col]) / (len(s)+len(t))\n",
    "    return Ratio"
   ]
  },
  {
   "cell_type": "code",
   "execution_count": 4,
   "id": "008f39af",
   "metadata": {},
   "outputs": [],
   "source": [
    "import json\n",
    "\n",
    "from prettytable import PrettyTable\n",
    "from time import time\n",
    "\n",
    "table = PrettyTable(field_names=[\"UserID\", \"Rating\", \"Tags\", \"Timestamp\"])"
   ]
  },
  {
   "cell_type": "markdown",
   "id": "3b2c087d",
   "metadata": {},
   "source": [
    "### Loading the database into the memory"
   ]
  },
  {
   "cell_type": "code",
   "execution_count": 28,
   "id": "3fdaf178",
   "metadata": {},
   "outputs": [],
   "source": [
    "data = json.load(open(\"dataFinal.json\", \"rb\"))"
   ]
  },
  {
   "cell_type": "markdown",
   "id": "23f1150a",
   "metadata": {},
   "source": [
    "### Loading Global secondary index into the memory"
   ]
  },
  {
   "cell_type": "code",
   "execution_count": 29,
   "id": "485a6515",
   "metadata": {},
   "outputs": [],
   "source": [
    "GIS = json.load(open(\"dataFinal_GIS.json\", \"rb\"))"
   ]
  },
  {
   "cell_type": "code",
   "execution_count": 30,
   "id": "00668e6a",
   "metadata": {},
   "outputs": [],
   "source": [
    "#Here, we are writing a function to search the movies by their titles\n",
    "def getClosestMatch(queryString):\n",
    "    tc = time() #time counter\n",
    "    \n",
    "    matchRatios = [levenshtein_ratio_and_distance(queryString, KEY) for KEY, _ in GIS.items()]\n",
    "    bestMatchRatio = max(matchRatios)\n",
    "\n",
    "    #If the best match ratio is less than 50% then we will assume that the records doesn't exist\n",
    "    if (bestMatchRatio < 0.5):\n",
    "        return {\"response code\" : 404, \"search time\" : f\"{time() - tc} seconds\", \"message\" : \"error\", \"response body\" : \"no match found\"}\n",
    "    \n",
    "    bestMatchRatio_idx = matchRatios.index(bestMatchRatio)\n",
    "    \n",
    "    bestMatch_mTitle = list(GIS)[bestMatchRatio_idx]\n",
    "    bestMatch_mId = GIS[bestMatch_mTitle]\n",
    "    \n",
    "    movieInfo = data[str(bestMatch_mId)] #details of movie retrieved with movieId\n",
    "\n",
    "    comp_time = time() #Time of completion of search\n",
    "\n",
    "    movieInfo[\"title\"] = bestMatch_mTitle\n",
    "    \n",
    "    responseModel = {\"response code\" : 200, \"search time\" : f\"{comp_time - tc} seconds\", \"message\" : \"success\", \"response body\" : movieInfo}\n",
    "    \n",
    "    return responseModel"
   ]
  },
  {
   "cell_type": "code",
   "execution_count": 31,
   "id": "0322d194",
   "metadata": {},
   "outputs": [],
   "source": [
    "#Here we are writing a function to request and visualise the data returned by the search function\n",
    "def request(movieToSearch=\"\"):\n",
    "    movieToSearch = str(movieToSearch)\n",
    "    if(movieToSearch.replace(\" \", \"\").strip() == \"\"):\n",
    "        return f\"Invalid Movie Name\"\n",
    "    \n",
    "    response = getClosestMatch(queryString = movieToSearch)\n",
    "\n",
    "    if response[\"response code\"] == 404:\n",
    "        return f\"ERROR: No records found\"\n",
    "    \n",
    "    ratings = response[\"response body\"][\"user_rating\"]\n",
    "\n",
    "    data_to_print = f\"\\\n",
    "    Title : {response['response body']['title']}\\n\\\n",
    "    Genre : {response['response body']['genre']}\\n\\\n",
    "    User Ratings : ---------------------------\\n\\\n",
    "    \"\n",
    "    print(data_to_print)"
   ]
  },
  {
   "cell_type": "code",
   "execution_count": 32,
   "id": "1844b627",
   "metadata": {},
   "outputs": [
    {
     "name": "stdout",
     "output_type": "stream",
     "text": [
      "    Title : Jumanji (1995)\n",
      "    Genre : ['Adventure', 'Children', 'Fantasy']\n",
      "    User Ratings : ---------------------------\n",
      "    \n"
     ]
    }
   ],
   "source": [
    "request(movieToSearch = \"Jumanji\")"
   ]
  }
 ],
 "metadata": {
  "kernelspec": {
   "display_name": "Python 3",
   "language": "python",
   "name": "python3"
  },
  "language_info": {
   "codemirror_mode": {
    "name": "ipython",
    "version": 3
   },
   "file_extension": ".py",
   "mimetype": "text/x-python",
   "name": "python",
   "nbconvert_exporter": "python",
   "pygments_lexer": "ipython3",
   "version": "3.8.8"
  }
 },
 "nbformat": 4,
 "nbformat_minor": 5
}
