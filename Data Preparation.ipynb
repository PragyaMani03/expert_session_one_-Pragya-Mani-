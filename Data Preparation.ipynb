{
 "cells": [
  {
   "cell_type": "markdown",
   "id": "7b41b540",
   "metadata": {},
   "source": [
    "# Data Preparation\n",
    "\n",
    "#### Here, we will prepare our data for our search function. Currently, our data is stored in three different csv files.\n",
    "\n",
    "<ul>\n",
    "    <li>movies.csv</li>\n",
    "    <li>links.csv</li>\n",
    "    <li>ratings.csv</li>\n",
    "</ul>"
   ]
  },
  {
   "cell_type": "code",
   "execution_count": 2,
   "id": "dca80356",
   "metadata": {},
   "outputs": [],
   "source": [
    "import pandas as pd\n",
    "from collections import defaultdict\n",
    "from os import getcwd"
   ]
  },
  {
   "cell_type": "markdown",
   "id": "c9977531",
   "metadata": {},
   "source": [
    "### Defining path to the data files"
   ]
  },
  {
   "cell_type": "code",
   "execution_count": 3,
   "id": "60a76234",
   "metadata": {},
   "outputs": [],
   "source": [
    "path_links = f\"{getcwd()}/links.csv\"\n",
    "path_movies = f\"{getcwd()}/movies.csv\"\n",
    "path_ratings = f\"{getcwd()}/ratings.csv\""
   ]
  },
  {
   "cell_type": "markdown",
   "id": "5f18f3d2",
   "metadata": {},
   "source": [
    "## Data Engineering"
   ]
  },
  {
   "cell_type": "code",
   "execution_count": 4,
   "id": "60409fc9",
   "metadata": {},
   "outputs": [
    {
     "name": "stdout",
     "output_type": "stream",
     "text": [
      "COLUMNS : ['movieId', 'title', 'genres']\n"
     ]
    }
   ],
   "source": [
    "#Reading data from movies.csv\n",
    "df_movies = pd.read_csv(path_movies)\n",
    "movies_table_columns = df_movies.columns.tolist()\n",
    "print(f\"COLUMNS : {movies_table_columns}\")"
   ]
  },
  {
   "cell_type": "code",
   "execution_count": 5,
   "id": "4f25011d",
   "metadata": {},
   "outputs": [
    {
     "name": "stdout",
     "output_type": "stream",
     "text": [
      "COLUMNS : ['movieId', 'imdbId', 'tmdbId']\n"
     ]
    }
   ],
   "source": [
    "#Reading data from links.csv\n",
    "df_links = pd.read_csv(path_links)\n",
    "links_table_columns = df_links.columns.tolist()\n",
    "print(f\"COLUMNS : {links_table_columns}\")"
   ]
  },
  {
   "cell_type": "code",
   "execution_count": 6,
   "id": "d3073d62",
   "metadata": {},
   "outputs": [
    {
     "name": "stdout",
     "output_type": "stream",
     "text": [
      "COLUMNS : ['userId', 'movieId', 'rating', 'timestamp']\n"
     ]
    }
   ],
   "source": [
    "#Reading data from ratings.csv\n",
    "df_ratings = pd.read_csv(path_ratings)\n",
    "path_table_columns = df_ratings.columns.tolist()\n",
    "print(f\"COLUMNS : {path_table_columns}\")"
   ]
  },
  {
   "cell_type": "code",
   "execution_count": 7,
   "id": "35576671",
   "metadata": {},
   "outputs": [
    {
     "name": "stdout",
     "output_type": "stream",
     "text": [
      "It is True  that the column 'movieId' has unique values for all entries in movies dataframe.\n",
      "It is True  that the column 'movieId' has unique values for all entries in links dataframe.\n",
      "It is False that the column 'userId'  has unique values for all entries in ratings dataframe.\n"
     ]
    }
   ],
   "source": [
    "print(f\"It is {pd.Series(df_movies['movieId']).is_unique}  that the column 'movieId' has unique values for all entries in movies dataframe.\")\n",
    "print(f\"It is {pd.Series(df_links['movieId']).is_unique}  that the column 'movieId' has unique values for all entries in links dataframe.\")\n",
    "print(f\"It is {pd.Series(df_ratings['userId']).is_unique} that the column 'userId'  has unique values for all entries in ratings dataframe.\")\n",
    "\n",
    "# Sorting movie dataframe on the basis of movieId as movieId is unique\n",
    "df_movies_sorted = df_movies.sort_values(by=['movieId'])\n",
    "\n",
    "# Sorting links dataframe on the basis of movieId as movieId is unique\n",
    "df_links_sorted = df_links.sort_values(by=['movieId'])"
   ]
  },
  {
   "cell_type": "code",
   "execution_count": 9,
   "id": "378622b1",
   "metadata": {},
   "outputs": [],
   "source": [
    "#From movies dataframe\n",
    "movieIds = df_movies_sorted[\"movieId\"].tolist()\n",
    "movieTitles = df_movies_sorted[\"title\"].tolist()\n",
    "movieGenres = [genre.split(\"|\") for genre in df_movies[\"genres\"].tolist()]\n",
    "\n",
    "#From links dataframe\n",
    "imdbId = df_links_sorted[\"imdbId\"].tolist()\n",
    "tmdbId = df_links_sorted[\"tmdbId\"].tolist()"
   ]
  },
  {
   "cell_type": "code",
   "execution_count": 10,
   "id": "a380cb10",
   "metadata": {},
   "outputs": [],
   "source": [
    "movieDict = {}\n",
    "global_secondaryIndex = {}\n",
    "for idx, movieId in enumerate(movieIds):\n",
    "    movieDict[movieId] = {\n",
    "        \"genre\" : movieGenres[idx],\n",
    "        \"links\" : {\"imdb\" : imdbId[idx], \"tmdb\" : tmdbId[idx]}\n",
    "    }\n",
    "    \n",
    "    global_secondaryIndex[movieTitles[idx]] = movieId"
   ]
  },
  {
   "cell_type": "code",
   "execution_count": 12,
   "id": "7fdd9a13",
   "metadata": {},
   "outputs": [],
   "source": [
    "#Since there is no column with unique values in ratings dataframe, so we will perform grouping \n",
    "userIds = df_ratings[\"userId\"].tolist()\n",
    "movieIds = df_ratings[\"movieId\"].tolist()\n",
    "user_ratings = df_ratings[\"rating\"].tolist()\n",
    "\n",
    "ratings = {}\n",
    "\n",
    "for idx, mId in enumerate(movieIds):\n",
    "    try : i = ratings[mId]\n",
    "    except: \n",
    "        ratings[mId] = [{\"userId\" : userIds[idx], \"rating\" : user_ratings[idx]}]\n",
    "    \n",
    "    try : i = ratings[mId][userIds[idx]]\n",
    "    except: ratings[mId].append({\"userId\" : userIds[idx], \"rating\" : user_ratings[idx]})\n",
    "\n",
    "for mId, i in movieDict.items():\n",
    "    try   : movieDict[mid][\"user_rating\"] = ratings[mId][1:]\n",
    "    except: \n",
    "        try   : movieDict[mId][\"user_rating\"] = [] \n",
    "        except: pass "
   ]
  },
  {
   "cell_type": "code",
   "execution_count": 14,
   "id": "8e0c2017",
   "metadata": {},
   "outputs": [
    {
     "name": "stdout",
     "output_type": "stream",
     "text": [
      "[INFO] Writing movie Data into the disk...\n",
      "[INFO] Writing Global Secondary Index Data into the disk...\n"
     ]
    }
   ],
   "source": [
    "import json\n",
    "print(\"[INFO] Writing movie Data into the disk...\")\n",
    "with open('dataFinal.json', 'w') as fp:\n",
    "    json.dump(movieDict, fp, sort_keys=True, indent=4)\n",
    "print(\"[INFO] Writing Global Secondary Index Data into the disk...\")\n",
    "with open('dataFinal_GIS.json', 'w') as fp:\n",
    "    json.dump(global_secondaryIndex, fp, sort_keys=True, indent=4)"
   ]
  },
  {
   "cell_type": "markdown",
   "id": "14146d7c",
   "metadata": {},
   "source": [
    "<h6>So we have prepared our data for the searching purpose</h6>"
   ]
  }
 ],
 "metadata": {
  "kernelspec": {
   "display_name": "Python 3",
   "language": "python",
   "name": "python3"
  },
  "language_info": {
   "codemirror_mode": {
    "name": "ipython",
    "version": 3
   },
   "file_extension": ".py",
   "mimetype": "text/x-python",
   "name": "python",
   "nbconvert_exporter": "python",
   "pygments_lexer": "ipython3",
   "version": "3.8.8"
  }
 },
 "nbformat": 4,
 "nbformat_minor": 5
}
